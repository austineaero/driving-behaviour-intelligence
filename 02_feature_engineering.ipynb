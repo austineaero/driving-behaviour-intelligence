{
 "cells": [
  {
   "cell_type": "code",
   "execution_count": 0,
   "metadata": {
    "application/vnd.databricks.v1+cell": {
     "cellMetadata": {
      "byteLimit": 2048000,
      "rowLimit": 10000
     },
     "inputWidgets": {},
     "nuid": "2617956c-f82c-4e23-9553-07abd13e9c93",
     "showTitle": false,
     "tableResultSettingsMap": {},
     "title": ""
    }
   },
   "outputs": [],
   "source": [
    "import pandas as pd\n",
    "import matplotlib.pyplot as plt\n",
    "from pathlib import Path\n",
    "import os\n",
    "\n",
    "# Load processed merged data (from notebook 01)\n",
    "df = pd.read_csv(\"data/processed/merged_features.csv\", parse_dates=[\"timestamp\"])"
   ]
  },
  {
   "cell_type": "code",
   "execution_count": 0,
   "metadata": {
    "application/vnd.databricks.v1+cell": {
     "cellMetadata": {
      "byteLimit": 2048000,
      "rowLimit": 10000
     },
     "inputWidgets": {},
     "nuid": "b7bf5db5-e4dd-4b24-b65d-bb51e939b495",
     "showTitle": false,
     "tableResultSettingsMap": {},
     "title": ""
    }
   },
   "outputs": [],
   "source": [
    "# ---- Feature Distribution Plots ----\n",
    "\n",
    "# Ensure the output directory exists\n",
    "os.makedirs(\"output\", exist_ok=True)\n",
    "\n",
    "# Speed distribution\n",
    "plt.figure(figsize=(8, 4))\n",
    "df[\"speed_kph\"].plot(kind=\"hist\", bins=40, alpha=0.7)\n",
    "plt.title(\"Speed Distribution (km/h)\")\n",
    "plt.xlabel(\"Speed (km/h)\")\n",
    "plt.ylabel(\"Count\")\n",
    "plt.grid(True)\n",
    "plt.tight_layout()\n",
    "plt.savefig(\"output/speed_distribution.png\")\n",
    "plt.show()"
   ]
  },
  {
   "cell_type": "code",
   "execution_count": 0,
   "metadata": {
    "application/vnd.databricks.v1+cell": {
     "cellMetadata": {
      "byteLimit": 2048000,
      "rowLimit": 10000
     },
     "inputWidgets": {},
     "nuid": "033d5e54-0b33-4d65-b2e6-beb13400cfca",
     "showTitle": false,
     "tableResultSettingsMap": {},
     "title": ""
    }
   },
   "outputs": [],
   "source": [
    "# Acceleration magnitude\n",
    "plt.figure(figsize=(8, 4))\n",
    "df[\"acc_mag\"].plot(kind=\"hist\", bins=40, alpha=0.7)\n",
    "plt.title(\"Acceleration Magnitude Distribution\")\n",
    "plt.xlabel(\"Acceleration (m/s^2)\")\n",
    "plt.ylabel(\"Count\")\n",
    "plt.grid(True)\n",
    "plt.tight_layout()\n",
    "plt.savefig(\"output/acc_mag_distribution.png\")\n",
    "plt.show()"
   ]
  },
  {
   "cell_type": "code",
   "execution_count": 0,
   "metadata": {
    "application/vnd.databricks.v1+cell": {
     "cellMetadata": {
      "byteLimit": 2048000,
      "rowLimit": 10000
     },
     "inputWidgets": {},
     "nuid": "d6758544-3421-42d6-b028-976a4092f80e",
     "showTitle": false,
     "tableResultSettingsMap": {},
     "title": ""
    }
   },
   "outputs": [],
   "source": [
    "# Count of events (harsh braking, acceleration, turns, speeding)\n",
    "events = [\"harsh_brake\", \"harsh_accel\", \"harsh_turn\", \"speeding\", \"risky\"]\n",
    "event_counts = df[events].sum()\n",
    "plt.figure(figsize=(7, 4))\n",
    "event_counts.plot(kind=\"bar\")\n",
    "plt.title(\"Count of Detected Driving Events\")\n",
    "plt.ylabel(\"Count\")\n",
    "plt.tight_layout()\n",
    "plt.savefig(\"output/driving_events_counts.png\")\n",
    "plt.show()"
   ]
  },
  {
   "cell_type": "code",
   "execution_count": 0,
   "metadata": {
    "application/vnd.databricks.v1+cell": {
     "cellMetadata": {
      "byteLimit": 2048000,
      "rowLimit": 10000
     },
     "inputWidgets": {},
     "nuid": "f4a01f52-c403-4901-a54e-9a1e3e6c49e0",
     "showTitle": false,
     "tableResultSettingsMap": {},
     "title": ""
    }
   },
   "outputs": [],
   "source": [
    "# Correlation matrix of features\n",
    "plt.figure(figsize=(8, 6))\n",
    "corr = df[[\"speed_kph\", \"acc_mag\", \"acc_north\", \"acc_east\", \"yaw_rate\", \"harsh_brake\", \"harsh_accel\", \"harsh_turn\", \"sharp_turn\", \"risky\"]].corr()\n",
    "import seaborn as sns\n",
    "sns.heatmap(corr, annot=True, fmt=\".2f\", cmap=\"coolwarm\", square=True)\n",
    "plt.title(\"Feature Correlation Matrix\")\n",
    "plt.tight_layout()\n",
    "plt.savefig(\"output/feature_correlation_matrix.png\")\n",
    "plt.show()"
   ]
  },
  {
   "cell_type": "code",
   "execution_count": 0,
   "metadata": {
    "application/vnd.databricks.v1+cell": {
     "cellMetadata": {},
     "inputWidgets": {},
     "nuid": "4f011d73-e838-43af-84eb-80acfcdea9e1",
     "showTitle": false,
     "tableResultSettingsMap": {},
     "title": ""
    }
   },
   "outputs": [],
   "source": [
    "# 5. Save the feature-engineered data again for downstream use\n",
    "df.to_csv(\"data/processed/feature_engineered.csv\", index=False)\n",
    "\n",
    "print(\"Feature engineering and EDA complete.\")"
   ]
  }
 ],
 "metadata": {
  "application/vnd.databricks.v1+notebook": {
   "computePreferences": null,
   "dashboards": [],
   "environmentMetadata": {
    "base_environment": "",
    "environment_version": "2"
   },
   "inputWidgetPreferences": null,
   "language": "python",
   "notebookMetadata": {
    "pythonIndentUnit": 4
   },
   "notebookName": "02_feature_engineering",
   "widgets": {}
  },
  "language_info": {
   "name": "python"
  }
 },
 "nbformat": 4,
 "nbformat_minor": 0
}
